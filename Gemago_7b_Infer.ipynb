{
  "nbformat": 4,
  "nbformat_minor": 0,
  "metadata": {
    "colab": {
      "provenance": [],
      "gpuType": "T4",
      "authorship_tag": "ABX9TyPTej+zx9ttagNZl+Ym6SoC",
      "include_colab_link": true
    },
    "kernelspec": {
      "name": "python3",
      "display_name": "Python 3"
    },
    "language_info": {
      "name": "python"
    },
    "accelerator": "GPU"
  },
  "cells": [
    {
      "cell_type": "markdown",
      "metadata": {
        "id": "view-in-github",
        "colab_type": "text"
      },
      "source": [
        "<a href=\"https://colab.research.google.com/github/deveworld/Gemago/blob/main/Gemago_7b_Infer.ipynb\" target=\"_parent\"><img src=\"https://colab.research.google.com/assets/colab-badge.svg\" alt=\"Open In Colab\"/></a>"
      ]
    },
    {
      "cell_type": "code",
      "source": [
        "!pip install -U transformers bitsandbytes accelerate"
      ],
      "metadata": {
        "id": "h8ThZP9a9NE6"
      },
      "execution_count": null,
      "outputs": []
    },
    {
      "cell_type": "code",
      "source": [
        "!pip install flash-attn --no-build-isolation"
      ],
      "metadata": {
        "id": "Z6NL3z7kD1rT"
      },
      "execution_count": null,
      "outputs": []
    },
    {
      "cell_type": "markdown",
      "source": [
        "# Load the Gemago 7b Model from HF"
      ],
      "metadata": {
        "id": "ITW24h5N9cA2"
      }
    },
    {
      "cell_type": "code",
      "execution_count": null,
      "metadata": {
        "id": "Mx7bOLzq8-kY"
      },
      "outputs": [],
      "source": [
        "import torch\n",
        "from transformers import AutoTokenizer, AutoModelForCausalLM, BitsAndBytesConfig\n",
        "\n",
        "tokenizer = AutoTokenizer.from_pretrained(\"devworld/gemago-7b\")\n",
        "\n",
        "# Use 4bit quantization_config\n",
        "quantization_config = BitsAndBytesConfig(load_in_4bit=True, bnb_4bit_compute_dtype=torch.bfloat16)\n",
        "model = AutoModelForCausalLM.from_pretrained(\n",
        "    \"devworld/gemago-7b\",\n",
        "    device_map=\"auto\",\n",
        "    quantization_config=quantization_config,\n",
        "    # attn_implementation=\"flash_attention_2\" # Not in T4\n",
        "  )"
      ]
    },
    {
      "cell_type": "code",
      "source": [
        "def gen(text, max_length):\n",
        "    input_ids = tokenizer(text, return_tensors=\"pt\").to(\"cuda\")\n",
        "    outputs = model.generate(\n",
        "        **input_ids,\n",
        "        max_length=max_length,\n",
        "        temperature=0.3,\n",
        "        top_p=0.8,\n",
        "        do_sample=True,\n",
        "    )\n",
        "    return tokenizer.decode(outputs[0])\n",
        "\n",
        "def e2k(e):\n",
        "    res = []\n",
        "    for input_e in e.split(\"\\n\"):\n",
        "        input_text = f\"English:\\n{input_e}\\n\\nKorean:\\n\"\n",
        "        res.append(gen(input_text, 2048))\n",
        "    return res\n",
        "\n",
        "def k2e(k):\n",
        "    res = []\n",
        "    for input_e in k.split(\"\\n\"):\n",
        "        input_text = f\"Korean:\\n{input_e}\\n\\nEnglish:\\n\"\n",
        "        res.append(gen(input_text, 2048))\n",
        "    return res"
      ],
      "metadata": {
        "id": "WhoMRry8CXfE"
      },
      "execution_count": 33,
      "outputs": []
    },
    {
      "cell_type": "markdown",
      "source": [
        "# Korean to English Demo"
      ],
      "metadata": {
        "id": "2xWEyHqH9UuA"
      }
    },
    {
      "cell_type": "code",
      "source": [
        "k2e(\"나라의 말이 중국과 달라 문자와 서로 통하지 아니하므로, 이런 까닭으로 어리석은 백성이 이르고자 하는 바가 있어도 마침내 제 뜻을 능히 펴지 못하는 사람이 많으니라. 내가 이를 위하여 가엾게 여겨 새로 스물여덟 자를 만드니 사람마다 하여금 쉽게 익혀 날로 쓰기 편하게 하고자 할 따름이니라.\")"
      ],
      "metadata": {
        "id": "tPi7N3M-9CWj"
      },
      "execution_count": null,
      "outputs": []
    },
    {
      "cell_type": "markdown",
      "source": [
        "# English to Korean Demo"
      ],
      "metadata": {
        "id": "LBuHPOOe9Y-Y"
      }
    },
    {
      "cell_type": "code",
      "source": [
        "e2k(\"Mr. and Mrs. Dursley, of number four, Privet Drive, were proud to say that they were perfectly normal, thank you very much.\")"
      ],
      "metadata": {
        "id": "Taoaj5Az9Egl"
      },
      "execution_count": null,
      "outputs": []
    }
  ]
}